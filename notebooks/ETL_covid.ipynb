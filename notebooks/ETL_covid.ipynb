{
 "cells": [
  {
   "cell_type": "code",
   "execution_count": 1,
   "metadata": {},
   "outputs": [],
   "source": [
    "import findspark\n",
    "findspark.init('C:\\\\Spark\\\\spark-2.4.7-bin-hadoop2.7')"
   ]
  },
  {
   "cell_type": "code",
   "execution_count": 2,
   "metadata": {},
   "outputs": [],
   "source": [
    "from pyspark.sql import SparkSession\n",
    "\n",
    "spark = SparkSession \\\n",
    "        .builder \\\n",
    "        .appName(\"EDA\") \\\n",
    "        .getOrCreate()"
   ]
  },
  {
   "cell_type": "code",
   "execution_count": 3,
   "metadata": {},
   "outputs": [],
   "source": [
    "spark.sparkContext.setLogLevel(\"ERROR\")"
   ]
  },
  {
   "cell_type": "code",
   "execution_count": 4,
   "metadata": {},
   "outputs": [],
   "source": [
    "import pyspark.sql.functions as F\n",
    "from pyspark.sql.types import StructType, StructField, StringType, FloatType, TimestampType, IntegerType, DoubleType, DateType"
   ]
  },
  {
   "cell_type": "code",
   "execution_count": 5,
   "metadata": {},
   "outputs": [],
   "source": [
    "df_confirmed = spark.read.format('csv') \\\n",
    ".options(header='true') \\\n",
    ".load('../data/covid19_paris/confirmed_data.csv')"
   ]
  },
  {
   "cell_type": "code",
   "execution_count": 6,
   "metadata": {},
   "outputs": [],
   "source": [
    "columns_to_drop = [\"Lat\",\"Long\",\"Province/State\"]"
   ]
  },
  {
   "cell_type": "code",
   "execution_count": 7,
   "metadata": {},
   "outputs": [],
   "source": [
    "df_confirmed = df_confirmed.filter(df_confirmed.Lat == \"46.2276\")\\\n",
    ".filter(df_confirmed.Long == \"2.2137\")\\\n",
    ".drop(*columns_to_drop)\\\n",
    ".withColumnRenamed(\"Country/Region\", \"country\")\\"
   ]
  },
  {
   "cell_type": "code",
   "execution_count": 9,
   "metadata": {},
   "outputs": [],
   "source": [
    "# source https://stackoverflow.com/questions/37864222/transpose-column-to-row-with-spark\n",
    "def to_long(df, by):\n",
    "\n",
    "    # Filter dtypes and split into column names and type description\n",
    "    cols, dtypes = zip(*((c, t) for (c, t) in df.dtypes if c not in by))\n",
    "    # Spark SQL supports only homogeneous columns\n",
    "    assert len(set(dtypes)) == 1, \"All columns have to be of the same type\"\n",
    "\n",
    "    # Create and explode an array of (column_name, column_value) structs\n",
    "    kvs = F.explode(F.array([\n",
    "      F.struct(F.lit(c).alias(\"key\"), F.col(c).alias(\"val\")) for c in cols\n",
    "    ])).alias(\"kvs\")\n",
    "\n",
    "    return df.select(by + [kvs]).select(by + [\"kvs.key\", \"kvs.val\"])"
   ]
  },
  {
   "cell_type": "code",
   "execution_count": 10,
   "metadata": {},
   "outputs": [],
   "source": [
    "df_confirmed = to_long(df_confirmed, [\"country\"]).withColumnRenamed(\"val\", \"confirmed\")"
   ]
  },
  {
   "cell_type": "code",
   "execution_count": 11,
   "metadata": {},
   "outputs": [
    {
     "name": "stdout",
     "output_type": "stream",
     "text": [
      "+-------+-------+---------+\n",
      "|country|    key|confirmed|\n",
      "+-------+-------+---------+\n",
      "| France|1/22/20|        0|\n",
      "| France|1/23/20|        0|\n",
      "| France|1/24/20|        2|\n",
      "| France|1/25/20|        3|\n",
      "| France|1/26/20|        3|\n",
      "| France|1/27/20|        3|\n",
      "| France|1/28/20|        4|\n",
      "| France|1/29/20|        5|\n",
      "| France|1/30/20|        5|\n",
      "| France|1/31/20|        5|\n",
      "| France| 2/1/20|        6|\n",
      "| France| 2/2/20|        6|\n",
      "| France| 2/3/20|        6|\n",
      "| France| 2/4/20|        6|\n",
      "| France| 2/5/20|        6|\n",
      "| France| 2/6/20|        6|\n",
      "| France| 2/7/20|        6|\n",
      "| France| 2/8/20|       11|\n",
      "| France| 2/9/20|       11|\n",
      "| France|2/10/20|       11|\n",
      "+-------+-------+---------+\n",
      "only showing top 20 rows\n",
      "\n"
     ]
    }
   ],
   "source": [
    "df_confirmed.show()"
   ]
  },
  {
   "cell_type": "code",
   "execution_count": 12,
   "metadata": {},
   "outputs": [],
   "source": [
    "df_deaths = spark.read.format('csv') \\\n",
    ".options(header='true') \\\n",
    ".load('../data/covid19_paris/deaths_data.csv')"
   ]
  },
  {
   "cell_type": "code",
   "execution_count": 13,
   "metadata": {},
   "outputs": [],
   "source": [
    "df_deaths = df_deaths.filter(df_deaths.Lat == \"46.2276\")\\\n",
    ".filter(df_deaths.Long == \"2.2137\")\\\n",
    ".drop(*columns_to_drop)\\\n",
    ".withColumnRenamed(\"Country/Region\", \"country\")"
   ]
  },
  {
   "cell_type": "code",
   "execution_count": 14,
   "metadata": {},
   "outputs": [],
   "source": [
    "df_deaths = to_long(df_deaths, [\"country\"]).withColumnRenamed(\"val\", \"deaths\")"
   ]
  },
  {
   "cell_type": "code",
   "execution_count": 15,
   "metadata": {},
   "outputs": [
    {
     "name": "stdout",
     "output_type": "stream",
     "text": [
      "+-------+-------+------+\n",
      "|country|    key|deaths|\n",
      "+-------+-------+------+\n",
      "| France|1/22/20|     0|\n",
      "| France|1/23/20|     0|\n",
      "| France|1/24/20|     0|\n",
      "| France|1/25/20|     0|\n",
      "| France|1/26/20|     0|\n",
      "| France|1/27/20|     0|\n",
      "| France|1/28/20|     0|\n",
      "| France|1/29/20|     0|\n",
      "| France|1/30/20|     0|\n",
      "| France|1/31/20|     0|\n",
      "| France| 2/1/20|     0|\n",
      "| France| 2/2/20|     0|\n",
      "| France| 2/3/20|     0|\n",
      "| France| 2/4/20|     0|\n",
      "| France| 2/5/20|     0|\n",
      "| France| 2/6/20|     0|\n",
      "| France| 2/7/20|     0|\n",
      "| France| 2/8/20|     0|\n",
      "| France| 2/9/20|     0|\n",
      "| France|2/10/20|     0|\n",
      "+-------+-------+------+\n",
      "only showing top 20 rows\n",
      "\n"
     ]
    }
   ],
   "source": [
    "df_deaths.show()"
   ]
  },
  {
   "cell_type": "code",
   "execution_count": 16,
   "metadata": {},
   "outputs": [],
   "source": [
    "df_recovered = spark.read.format('csv') \\\n",
    ".options(header='true') \\\n",
    ".load('../data/covid19_paris/recovered_data.csv')"
   ]
  },
  {
   "cell_type": "code",
   "execution_count": 17,
   "metadata": {},
   "outputs": [],
   "source": [
    "df_recovered = df_recovered.filter(df_recovered.Lat == \"46.2276\")\\\n",
    ".filter(df_recovered.Long == \"2.2137\")\\\n",
    ".drop(*columns_to_drop)\\\n",
    ".withColumnRenamed(\"Country/Region\", \"country\")"
   ]
  },
  {
   "cell_type": "code",
   "execution_count": 18,
   "metadata": {},
   "outputs": [],
   "source": [
    "df_recovered = to_long(df_recovered, [\"country\"])\\\n",
    ".withColumnRenamed(\"val\", \"recovered\")"
   ]
  },
  {
   "cell_type": "code",
   "execution_count": 19,
   "metadata": {},
   "outputs": [
    {
     "name": "stdout",
     "output_type": "stream",
     "text": [
      "+-------+-------+---------+\n",
      "|country|    key|recovered|\n",
      "+-------+-------+---------+\n",
      "| France|1/22/20|        0|\n",
      "| France|1/23/20|        0|\n",
      "| France|1/24/20|        0|\n",
      "| France|1/25/20|        0|\n",
      "| France|1/26/20|        0|\n",
      "| France|1/27/20|        0|\n",
      "| France|1/28/20|        0|\n",
      "| France|1/29/20|        0|\n",
      "| France|1/30/20|        0|\n",
      "| France|1/31/20|        0|\n",
      "| France| 2/1/20|        0|\n",
      "| France| 2/2/20|        0|\n",
      "| France| 2/3/20|        0|\n",
      "| France| 2/4/20|        0|\n",
      "| France| 2/5/20|        0|\n",
      "| France| 2/6/20|        0|\n",
      "| France| 2/7/20|        0|\n",
      "| France| 2/8/20|        0|\n",
      "| France| 2/9/20|        0|\n",
      "| France|2/10/20|        0|\n",
      "+-------+-------+---------+\n",
      "only showing top 20 rows\n",
      "\n"
     ]
    }
   ],
   "source": [
    "df_recovered.show()"
   ]
  },
  {
   "cell_type": "code",
   "execution_count": 20,
   "metadata": {},
   "outputs": [],
   "source": [
    "df_covid = df_confirmed.join(df_deaths, [\"key\",\"country\"])\\\n",
    "                .join(df_recovered, [\"key\",\"country\"])\\\n",
    "                .withColumnRenamed(\"key\", \"date\")\\\n",
    "                .drop(\"country\")"
   ]
  },
  {
   "cell_type": "code",
   "execution_count": 22,
   "metadata": {},
   "outputs": [],
   "source": [
    "split_col = F.split(df_covid['date'], '/')\n",
    "df_covid = df_covid.withColumn('day', split_col.getItem(1))\\\n",
    "        .withColumn('month', split_col.getItem(0))\\\n",
    "        .withColumn('year', split_col.getItem(2))\\"
   ]
  },
  {
   "cell_type": "code",
   "execution_count": 23,
   "metadata": {},
   "outputs": [],
   "source": [
    "table_covid = df_covid.withColumn('month', F.when(F.length(F.col('month')) == 1, F.concat(F.lit('0'), F.col('month'))).otherwise(F.col('month')))\\\n",
    "        .withColumn('day', F.when(F.length(F.col('day')) == 1, F.concat(F.lit('0'), F.col('day'))).otherwise(F.col('day')))\\\n",
    "        .withColumn('year', F.when(F.length(F.col('year')) == 2, F.concat(F.lit('20'), F.col('year'))).otherwise(F.col('year')))\\\n",
    "        .withColumn('date', F.concat('year', F.lit('-'),'month',F.lit('-'), 'day'))\\\n",
    "        .withColumn(\"date\", F.to_date(F.col(\"date\")))"
   ]
  },
  {
   "cell_type": "code",
   "execution_count": 24,
   "metadata": {
    "scrolled": true
   },
   "outputs": [
    {
     "name": "stdout",
     "output_type": "stream",
     "text": [
      "+----------+---------+------+---------+---+-----+----+\n",
      "|      date|confirmed|deaths|recovered|day|month|year|\n",
      "+----------+---------+------+---------+---+-----+----+\n",
      "|2020-01-22|        0|     0|        0| 22|   01|2020|\n",
      "|2020-01-23|        0|     0|        0| 23|   01|2020|\n",
      "|2020-01-24|        2|     0|        0| 24|   01|2020|\n",
      "|2020-01-25|        3|     0|        0| 25|   01|2020|\n",
      "|2020-01-26|        3|     0|        0| 26|   01|2020|\n",
      "|2020-01-27|        3|     0|        0| 27|   01|2020|\n",
      "|2020-01-28|        4|     0|        0| 28|   01|2020|\n",
      "|2020-01-29|        5|     0|        0| 29|   01|2020|\n",
      "|2020-01-30|        5|     0|        0| 30|   01|2020|\n",
      "|2020-01-31|        5|     0|        0| 31|   01|2020|\n",
      "|2020-02-01|        6|     0|        0| 01|   02|2020|\n",
      "|2020-02-02|        6|     0|        0| 02|   02|2020|\n",
      "|2020-02-03|        6|     0|        0| 03|   02|2020|\n",
      "|2020-02-04|        6|     0|        0| 04|   02|2020|\n",
      "|2020-02-05|        6|     0|        0| 05|   02|2020|\n",
      "|2020-02-06|        6|     0|        0| 06|   02|2020|\n",
      "|2020-02-07|        6|     0|        0| 07|   02|2020|\n",
      "|2020-02-08|       11|     0|        0| 08|   02|2020|\n",
      "|2020-02-09|       11|     0|        0| 09|   02|2020|\n",
      "|2020-02-10|       11|     0|        0| 10|   02|2020|\n",
      "+----------+---------+------+---------+---+-----+----+\n",
      "only showing top 20 rows\n",
      "\n"
     ]
    }
   ],
   "source": [
    "table_covid.show()"
   ]
  },
  {
   "cell_type": "code",
   "execution_count": 25,
   "metadata": {},
   "outputs": [],
   "source": [
    "table_covid.write.partitionBy('year', 'month').parquet('../output_tables/covid_table', mode='overwrite')"
   ]
  },
  {
   "cell_type": "code",
   "execution_count": null,
   "metadata": {},
   "outputs": [],
   "source": []
  }
 ],
 "metadata": {
  "kernelspec": {
   "display_name": "Python 3",
   "language": "python",
   "name": "python3"
  },
  "language_info": {
   "codemirror_mode": {
    "name": "ipython",
    "version": 3
   },
   "file_extension": ".py",
   "mimetype": "text/x-python",
   "name": "python",
   "nbconvert_exporter": "python",
   "pygments_lexer": "ipython3",
   "version": "3.7.9"
  },
  "toc": {
   "base_numbering": 1,
   "nav_menu": {},
   "number_sections": true,
   "sideBar": true,
   "skip_h1_title": false,
   "title_cell": "Table of Contents",
   "title_sidebar": "Contents",
   "toc_cell": false,
   "toc_position": {},
   "toc_section_display": true,
   "toc_window_display": false
  }
 },
 "nbformat": 4,
 "nbformat_minor": 4
}
