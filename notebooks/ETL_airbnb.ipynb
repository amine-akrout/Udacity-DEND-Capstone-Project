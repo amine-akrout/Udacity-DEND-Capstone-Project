{
 "cells": [
  {
   "cell_type": "code",
   "execution_count": 1,
   "metadata": {},
   "outputs": [],
   "source": [
    "import findspark\n",
    "findspark.init('C:\\\\Spark\\\\spark-2.4.7-bin-hadoop2.7')"
   ]
  },
  {
   "cell_type": "code",
   "execution_count": 2,
   "metadata": {},
   "outputs": [],
   "source": [
    "from pyspark.sql import SparkSession\n",
    "\n",
    "spark = SparkSession \\\n",
    "        .builder \\\n",
    "        .appName(\"EDA\") \\\n",
    "        .getOrCreate()"
   ]
  },
  {
   "cell_type": "code",
   "execution_count": 3,
   "metadata": {},
   "outputs": [],
   "source": [
    "spark.sparkContext.setLogLevel(\"ERROR\")"
   ]
  },
  {
   "cell_type": "code",
   "execution_count": 4,
   "metadata": {},
   "outputs": [],
   "source": [
    "import pyspark.sql.functions as F\n",
    "from pyspark.sql.types import StructType, StructField, StringType, FloatType, TimestampType, IntegerType, DoubleType, DateType"
   ]
  },
  {
   "cell_type": "code",
   "execution_count": 5,
   "metadata": {},
   "outputs": [],
   "source": [
    "df_review = spark.read.format('csv') \\\n",
    ".option(\"inferSchema\", \"True\") \\\n",
    ".option(\"header\", \"True\") \\\n",
    ".option(\"sep\", \",\") \\\n",
    ".option('escape','\"')\\\n",
    ".option(\"escape\",\"\\\"\")\\\n",
    ".option(\"multiLine\", \"true\")\\\n",
    ".option(\"encoding\", \"ISO-8859-1\") \\\n",
    ".load('../data/airbnb_paris_data/reviews.csv')"
   ]
  },
  {
   "cell_type": "code",
   "execution_count": 6,
   "metadata": {},
   "outputs": [
    {
     "name": "stdout",
     "output_type": "stream",
     "text": [
      "+----------+---------+-------------------+-----------+-------------+--------------------+\n",
      "|listing_id|       id|               date|reviewer_id|reviewer_name|            comments|\n",
      "+----------+---------+-------------------+-----------+-------------+--------------------+\n",
      "|      2577|366217274|2019-01-02 00:00:00|   28047930|         Kate|Beautiful apartme...|\n",
      "|      3109|123127969|2016-12-27 00:00:00|   12389804|       Sophie|The host canceled...|\n",
      "|      3109|123274144|2016-12-28 00:00:00|   67553494|        Tom'S|The host canceled...|\n",
      "|      3109|207127433|2017-10-28 00:00:00|   51636494|     Patricia|Tout s'est bien d...|\n",
      "|      3109|208779822|2017-11-03 00:00:00|    4142888|     Patricia|Un petit nid foui...|\n",
      "|      3109|234257457|2018-02-12 00:00:00|    3539452|    Dominique|The host canceled...|\n",
      "|      3109|295840159|2018-07-24 00:00:00|    7415343|      Laurent|Appartement spaci...|\n",
      "|      3109|297207211|2018-07-27 00:00:00|  202957965|     Eleonora|The host canceled...|\n",
      "|      3109|360052439|2018-12-19 00:00:00|   13723090|         Marc|The host canceled...|\n",
      "|      3109|553502638|2019-10-24 00:00:00|   21159216|    Anastasia|Appartement total...|\n",
      "|      4890|   738280|2011-11-22 00:00:00|    1372597|        Piers|I absolutely reco...|\n",
      "|      4890|  2940227|2012-11-22 00:00:00|    3642989|      William|We have just retu...|\n",
      "|      4890|  3330627|2013-01-12 00:00:00|    3690531|        Jason|A great location ...|\n",
      "|      4890|  3520533|2013-02-11 00:00:00|    4320095|        Chris|Our recent stay i...|\n",
      "|      4890|  3624081|2013-02-26 00:00:00|    4864955|      Patrick|great compact apa...|\n",
      "|      4890| 23422607|2014-12-01 00:00:00|    7207328|      Jessica|All we can say is...|\n",
      "|      4890| 26125759|2015-02-04 00:00:00|   21885191|       Alyson|Was impressed fro...|\n",
      "|      4890| 27963409|2015-03-15 00:00:00|    2900975|     Hermione|Brilliant, we met...|\n",
      "|      4890| 28600088|2015-03-27 00:00:00|   26256218|        Marie|Really cute apart...|\n",
      "|      4890| 46587218|2015-09-12 00:00:00|   22896610|          Kim|We had a wonderfu...|\n",
      "+----------+---------+-------------------+-----------+-------------+--------------------+\n",
      "only showing top 20 rows\n",
      "\n"
     ]
    }
   ],
   "source": [
    "df_review.show()"
   ]
  },
  {
   "cell_type": "code",
   "execution_count": 8,
   "metadata": {},
   "outputs": [],
   "source": [
    "avg_length_of_stay_paris = 5.2\n",
    "review_rate_modest = 0.5"
   ]
  },
  {
   "cell_type": "code",
   "execution_count": 10,
   "metadata": {},
   "outputs": [],
   "source": [
    "df_review = df_review.groupBy(\"listing_id\",\"date\")\\\n",
    "                .count()\\\n",
    "                .withColumnRenamed(\"count\", \"review_day\")\\\n",
    "                .withColumn('occupancy', F.round(avg_length_of_stay_paris *(F.col('review_day')/review_rate_modest),2))\\\n",
    "                .filter(F.col('date')>= \"2016-01-01\")"
   ]
  },
  {
   "cell_type": "code",
   "execution_count": 11,
   "metadata": {},
   "outputs": [
    {
     "name": "stdout",
     "output_type": "stream",
     "text": [
      "+----------+-------------------+----------+---------+\n",
      "|listing_id|               date|review_day|occupancy|\n",
      "+----------+-------------------+----------+---------+\n",
      "|      7397|2017-08-24 00:00:00|         1|     10.4|\n",
      "|     27288|2016-02-24 00:00:00|         1|     10.4|\n",
      "|     33993|2018-03-12 00:00:00|         1|     10.4|\n",
      "|     38871|2017-12-06 00:00:00|         1|     10.4|\n",
      "|     55348|2019-08-04 00:00:00|         1|     10.4|\n",
      "|     59182|2017-02-28 00:00:00|         1|     10.4|\n",
      "|     81106|2018-11-28 00:00:00|         1|     10.4|\n",
      "|     86053|2018-01-05 00:00:00|         1|     10.4|\n",
      "|    111270|2019-12-24 00:00:00|         1|     10.4|\n",
      "|    120494|2016-01-24 00:00:00|         1|     10.4|\n",
      "|    137112|2016-04-15 00:00:00|         1|     10.4|\n",
      "|    166353|2018-07-04 00:00:00|         1|     10.4|\n",
      "|    166370|2018-08-23 00:00:00|         1|     10.4|\n",
      "|    180348|2017-01-10 00:00:00|         1|     10.4|\n",
      "|    182744|2018-11-05 00:00:00|         1|     10.4|\n",
      "|    215756|2018-10-25 00:00:00|         1|     10.4|\n",
      "|    215763|2019-11-25 00:00:00|         1|     10.4|\n",
      "|    220063|2018-05-21 00:00:00|         1|     10.4|\n",
      "|    221754|2018-12-19 00:00:00|         1|     10.4|\n",
      "|    225747|2018-06-16 00:00:00|         1|     10.4|\n",
      "+----------+-------------------+----------+---------+\n",
      "only showing top 20 rows\n",
      "\n"
     ]
    }
   ],
   "source": [
    "df_review.show()"
   ]
  },
  {
   "cell_type": "code",
   "execution_count": 12,
   "metadata": {},
   "outputs": [],
   "source": [
    "df_listing = spark.read.format('csv') \\\n",
    ".option(\"inferSchema\", \"True\") \\\n",
    ".option(\"header\", \"True\") \\\n",
    ".option(\"sep\", \",\") \\\n",
    ".option('escape','\"')\\\n",
    ".option(\"escape\",\"\\\"\")\\\n",
    ".option(\"multiLine\", \"true\")\\\n",
    ".option(\"encoding\", \"ISO-8859-1\") \\\n",
    ".load('../data/airbnb_paris_data/listings.csv')"
   ]
  },
  {
   "cell_type": "code",
   "execution_count": 13,
   "metadata": {},
   "outputs": [],
   "source": [
    "host_table_temp = df_listing.select(['id','host_id','host_name','host_location','host_since',\n",
    "                                'host_response_time','host_response_rate',\n",
    "                                'host_is_superhost','host_acceptance_rate'])\\\n",
    "                                .dropDuplicates()"
   ]
  },
  {
   "cell_type": "code",
   "execution_count": 14,
   "metadata": {},
   "outputs": [],
   "source": [
    "host_table = host_table_temp.drop('id')\\\n",
    "                                .dropDuplicates()"
   ]
  },
  {
   "cell_type": "code",
   "execution_count": 15,
   "metadata": {},
   "outputs": [
    {
     "name": "stdout",
     "output_type": "stream",
     "text": [
      "+---------+--------------+--------------------+-------------------+------------------+------------------+-----------------+--------------------+\n",
      "|  host_id|     host_name|       host_location|         host_since|host_response_time|host_response_rate|host_is_superhost|host_acceptance_rate|\n",
      "+---------+--------------+--------------------+-------------------+------------------+------------------+-----------------+--------------------+\n",
      "| 53469395| Miguel Ã�ngel|Majadahonda, Comu...|2016-01-05 00:00:00|               N/A|               N/A|                f|                 N/A|\n",
      "| 31304304|        Badara|Miami Beach, Flor...|2015-04-15 00:00:00|               N/A|               N/A|                f|                 N/A|\n",
      "| 35549967|      Penelope|Paris, ÃŽle-de-Fr...|2015-06-11 00:00:00|               N/A|               N/A|                f|                 N/A|\n",
      "|300007169|          LÃ©a|Paris, ÃŽle-de-Fr...|2019-10-04 00:00:00|               N/A|               N/A|                f|                100%|\n",
      "|341017613|      Stephane|Paris, ÃŽle-de-Fr...|2020-03-09 00:00:00|    within an hour|              100%|                f|                100%|\n",
      "| 42087754|      Laurence|Briare, Centre, F...|2015-08-21 00:00:00|               N/A|               N/A|                f|                100%|\n",
      "| 55011736|       Yannick|Paris, ÃŽle-de-Fr...|2016-01-17 00:00:00|               N/A|               N/A|                f|                 N/A|\n",
      "|130418108|  Jean-Gabriel|Paris, ÃŽle-de-Fr...|2017-05-15 00:00:00|               N/A|               N/A|                f|                 N/A|\n",
      "|354282270|     AurÃ©lien|Paris, ÃŽle-de-Fr...|2020-07-07 00:00:00|    within an hour|              100%|                f|                100%|\n",
      "| 13749892|Olga & Mathieu|Paris, ÃŽle-de-Fr...|2014-03-31 00:00:00|               N/A|               N/A|                f|                 N/A|\n",
      "|369338974|      Caroline|                  FR|2020-09-26 00:00:00|a few days or more|               17%|                f|                 50%|\n",
      "| 35424151|          Eric|Paris, ÃŽle-de-Fr...|2015-06-09 00:00:00|      within a day|               50%|                f|                100%|\n",
      "|  7604411|      MÃ©lissa|Grenoble, Rhone-A...|2013-07-20 00:00:00|               N/A|               N/A|                f|                 N/A|\n",
      "| 34587034|        Xavier|Paris, ÃŽle-de-Fr...|2015-05-30 00:00:00|               N/A|               N/A|                f|                 N/A|\n",
      "|330121020|          Loic|                  FR|2020-01-23 00:00:00|               N/A|               N/A|                f|                100%|\n",
      "| 44138265|        Myriam|Paris, ÃŽle-de-Fr...|2015-09-14 00:00:00|               N/A|               N/A|                t|                 94%|\n",
      "|230516134|      OphÃ©lie|Saint-Germain-du-...|2018-12-13 00:00:00|      within a day|               50%|                f|                 40%|\n",
      "|370096085|        Arnaud|                  FR|2020-10-01 00:00:00|    within an hour|               90%|                f|                100%|\n",
      "| 78626460|          Aude|Paris, ÃŽle-de-Fr...|2016-06-19 00:00:00|               N/A|               N/A|                f|                 N/A|\n",
      "| 23213622|        Sylvie|Paris, ÃŽle-de-Fr...|2014-11-01 00:00:00|               N/A|               N/A|                f|                 N/A|\n",
      "+---------+--------------+--------------------+-------------------+------------------+------------------+-----------------+--------------------+\n",
      "only showing top 20 rows\n",
      "\n"
     ]
    }
   ],
   "source": [
    "host_table.show()"
   ]
  },
  {
   "cell_type": "code",
   "execution_count": 16,
   "metadata": {},
   "outputs": [],
   "source": [
    "listing_table = df_listing.select(['id','name', 'description',  'price', 'neighbourhood_group_cleansed', \n",
    "                          'latitude', 'longitude', 'property_type', 'accommodates', \n",
    "                          'bathrooms', 'bedrooms', 'beds'])\\\n",
    "                        .dropDuplicates()\\\n",
    "                        .withColumnRenamed(\"id\", \"id_listing\")"
   ]
  },
  {
   "cell_type": "code",
   "execution_count": 17,
   "metadata": {},
   "outputs": [
    {
     "name": "stdout",
     "output_type": "stream",
     "text": [
      "+----------+--------------------+--------------------+-------+----------------------------+--------+---------+--------------------+------------+---------+--------+----+\n",
      "|id_listing|                name|         description|  price|neighbourhood_group_cleansed|latitude|longitude|       property_type|accommodates|bathrooms|bedrooms|beds|\n",
      "+----------+--------------------+--------------------+-------+----------------------------+--------+---------+--------------------+------------+---------+--------+----+\n",
      "|    462721|COSY FAMILY APT M...|<b>The space</b><...|$180.00|                        null|48.84292|  2.29436|    Entire apartment|           4|     null|       3|   3|\n",
      "|    675626|Nice 45m2 Paris -...|Appartement de 45...| $65.00|                        null|48.87902|  2.37342|    Entire apartment|           4|     null|       1|   2|\n",
      "|    899349|Terrasse Facing E...|<b>The space</b><...|$150.00|                        null|48.85902|  2.30323|    Entire apartment|           2|     null|       1|   1|\n",
      "|   2032337|Charming 3 bedroo...|This spacious (13...|$280.00|                        null|48.87857|   2.3343|    Entire apartment|           6|     null|       3|   4|\n",
      "|   2183282|Stylish Studio Ar...|A very modern and...|$100.00|                        null| 48.8605|  2.36768|    Entire apartment|           2|     null|    null|   1|\n",
      "|   4574515|Studio Gds Boulev...|Close to Opera an...| $30.00|                        null|48.87331|  2.34194|    Entire apartment|           1|     null|    null|   1|\n",
      "|   4823428|Design flat-View ...|Cosy large flat (...|$196.00|                        null|48.87251|  2.36498|    Entire apartment|           6|     null|       4|   3|\n",
      "|   4876381|Nice room in a gr...|Dear travellers,<...| $45.00|                        null|48.87695|    2.342|Private room in a...|           2|     null|       1|   1|\n",
      "|   6751028|RÃ©sidence Saint ...|Chambre privÃ©e d...| $96.00|                        null|48.83646|  2.34752|Private room in a...|           2|     null|       1|   1|\n",
      "|   6775237|Duplex dans une b...|Beautiful duplex ...| $75.00|                        null|48.84886|  2.39576|    Entire apartment|           6|     null|       3|   5|\n",
      "|   6817366|Room in a flat ne...|I put my room at ...| $45.00|                        null|48.86963|  2.37012|Private room in a...|           2|     null|       1|   1|\n",
      "|   6849340|Quiet room 5mn wa...|You will be welco...| $90.00|                        null|48.85318|  2.29312|Private room in a...|           2|     null|       1|   2|\n",
      "|   6930909|Private room- App...|I offer one bedro...| $40.00|                        null|48.86643|  2.40513|Private room in a...|           2|     null|       1|   1|\n",
      "|   7127302|3 Rooms Apartment...|Really bright app...|$145.00|                        null|48.84059|  2.30007|    Entire apartment|           6|     null|       2|   3|\n",
      "|   7307039|Amazing staying i...|Welcome to the ve...|$127.00|                        null|48.85333|  2.34225|    Entire apartment|           2|     null|       2|   1|\n",
      "|   7324170|grand loft calme ...|110m2, un trÃ¨s g...|$135.00|                        null|48.87394|  2.39644|    Entire apartment|           6|     null|       4|   4|\n",
      "|   7448131|Chambre privÃ©e p...|SituÃ©e dans le n...| $35.00|                        null|48.89169|  2.36306|Private room in a...|           2|     null|       1|   1|\n",
      "|   7540971|Location Studio 1...|Quartier vivant, ...| $30.00|                        null| 48.8353|   2.2966|    Entire apartment|           2|     null|    null|   2|\n",
      "|   8266814|  Cosy flat in Paris|Charmant appartem...| $90.00|                        null|48.85134|  2.38116|    Entire apartment|           4|     null|       1|   1|\n",
      "|   8313266|Marais Beaubourg ...|Studio 20m2 loft ...| $65.00|                        null|48.86406|  2.35366|    Entire apartment|           2|     null|    null|   1|\n",
      "+----------+--------------------+--------------------+-------+----------------------------+--------+---------+--------------------+------------+---------+--------+----+\n",
      "only showing top 20 rows\n",
      "\n"
     ]
    }
   ],
   "source": [
    "listing_table.show()"
   ]
  },
  {
   "cell_type": "code",
   "execution_count": 18,
   "metadata": {},
   "outputs": [],
   "source": [
    "listing_temp= listing_table.select(['id_listing','price'])\\\n",
    "                            .withColumn(\"price\", F.expr(\"substring(price,2,length(price)-1)\"))\\\n",
    "                            .withColumn(\"price\", F.col(\"price\").cast(DoubleType()))"
   ]
  },
  {
   "cell_type": "code",
   "execution_count": 19,
   "metadata": {},
   "outputs": [],
   "source": [
    "fact_revenue_table = df_review.join(listing_temp, (df_review.listing_id == listing_temp.id_listing))\\\n",
    "                            .join(host_table_temp, (df_review.listing_id == host_table_temp.id))\\\n",
    "                            .drop('id_listing')\\\n",
    "                            .drop('id')\\\n",
    "                            .withColumn('income_est', F.round(F.col('occupancy') *F.col('price'),2))\\\n",
    "                            .select(['date','listing_id', 'host_id','occupancy','income_est'])\\\n",
    "                            .withColumn('year', F.year('date')) \\\n",
    "                            .withColumn('month', F.month('date')) \\\n",
    "                            .withColumn('day', F.dayofmonth('date'))"
   ]
  },
  {
   "cell_type": "code",
   "execution_count": 20,
   "metadata": {},
   "outputs": [
    {
     "name": "stdout",
     "output_type": "stream",
     "text": [
      "+-------------------+----------+-------+---------+----------+----+-----+---+\n",
      "|               date|listing_id|host_id|occupancy|income_est|year|month|day|\n",
      "+-------------------+----------+-------+---------+----------+----+-----+---+\n",
      "|2016-02-24 00:00:00|     27288|  77087|     10.4|    1300.0|2016|    2| 24|\n",
      "|2017-02-28 00:00:00|     59182| 193906|     10.4|     592.8|2017|    2| 28|\n",
      "|2018-08-14 00:00:00|    230112|1202318|     10.4|     728.0|2018|    8| 14|\n",
      "|2017-12-31 00:00:00|    509357|2510200|     10.4|     728.0|2017|   12| 31|\n",
      "|2016-01-03 00:00:00|    514402|2533682|     10.4|    1040.0|2016|    1|  3|\n",
      "|2016-07-21 00:00:00|    552628|2715603|     10.4|     832.0|2016|    7| 21|\n",
      "|2016-07-09 00:00:00|    605410|2998362|     10.4|    1040.0|2016|    7|  9|\n",
      "|2017-07-26 00:00:00|    621314|2845167|     10.4|     416.0|2017|    7| 26|\n",
      "|2019-06-05 00:00:00|    655276|3298295|     10.4|    1300.0|2019|    6|  5|\n",
      "|2016-08-06 00:00:00|    686977|2798100|     10.4|    1664.0|2016|    8|  6|\n",
      "|2017-10-08 00:00:00|    705796|3626233|     10.4|    1352.0|2017|   10|  8|\n",
      "|2017-01-11 00:00:00|    730617|1602690|     10.4|    2080.0|2017|    1| 11|\n",
      "|2017-10-20 00:00:00|    847662|2627161|     10.4|     540.8|2017|   10| 20|\n",
      "|2018-04-03 00:00:00|    860095|4504279|     10.4|    2600.0|2018|    4|  3|\n",
      "|2019-05-01 00:00:00|    875029|4155011|     10.4|    4160.0|2019|    5|  1|\n",
      "|2016-07-13 00:00:00|    961308|2107478|     10.4|     873.6|2016|    7| 13|\n",
      "|2019-05-23 00:00:00|   1097289|6030167|     10.4|     759.2|2019|    5| 23|\n",
      "|2019-11-12 00:00:00|   1147882|4659319|     10.4|     707.2|2019|   11| 12|\n",
      "|2018-03-08 00:00:00|   1167117|6390142|     10.4|     426.4|2018|    3|  8|\n",
      "|2020-01-20 00:00:00|   1167478|6393327|     10.4|    1352.0|2020|    1| 20|\n",
      "+-------------------+----------+-------+---------+----------+----+-----+---+\n",
      "only showing top 20 rows\n",
      "\n"
     ]
    }
   ],
   "source": [
    "fact_revenue_table.show()"
   ]
  },
  {
   "cell_type": "code",
   "execution_count": 21,
   "metadata": {},
   "outputs": [],
   "source": [
    "time_table = fact_revenue_table.select(['date', 'year' , 'month', 'day']) \\\n",
    "                .withColumn('weekday', F.dayofweek('date'))\\\n",
    "                .dropDuplicates()"
   ]
  },
  {
   "cell_type": "code",
   "execution_count": 22,
   "metadata": {},
   "outputs": [
    {
     "name": "stdout",
     "output_type": "stream",
     "text": [
      "+-------------------+----+-----+---+-------+\n",
      "|               date|year|month|day|weekday|\n",
      "+-------------------+----+-----+---+-------+\n",
      "|2017-09-24 00:00:00|2017|    9| 24|      1|\n",
      "|2019-06-24 00:00:00|2019|    6| 24|      2|\n",
      "|2019-08-30 00:00:00|2019|    8| 30|      6|\n",
      "|2018-08-10 00:00:00|2018|    8| 10|      6|\n",
      "|2016-08-27 00:00:00|2016|    8| 27|      7|\n",
      "|2019-02-16 00:00:00|2019|    2| 16|      7|\n",
      "|2017-04-05 00:00:00|2017|    4|  5|      4|\n",
      "|2016-05-20 00:00:00|2016|    5| 20|      6|\n",
      "|2016-04-01 00:00:00|2016|    4|  1|      6|\n",
      "|2017-08-22 00:00:00|2017|    8| 22|      3|\n",
      "|2019-01-22 00:00:00|2019|    1| 22|      3|\n",
      "|2019-08-19 00:00:00|2019|    8| 19|      2|\n",
      "|2018-10-11 00:00:00|2018|   10| 11|      5|\n",
      "|2017-02-13 00:00:00|2017|    2| 13|      2|\n",
      "|2020-10-31 00:00:00|2020|   10| 31|      7|\n",
      "|2017-10-09 00:00:00|2017|   10|  9|      2|\n",
      "|2016-12-26 00:00:00|2016|   12| 26|      2|\n",
      "|2019-07-11 00:00:00|2019|    7| 11|      5|\n",
      "|2020-02-16 00:00:00|2020|    2| 16|      1|\n",
      "|2016-10-30 00:00:00|2016|   10| 30|      1|\n",
      "+-------------------+----+-----+---+-------+\n",
      "only showing top 20 rows\n",
      "\n"
     ]
    }
   ],
   "source": [
    "time_table.show()"
   ]
  },
  {
   "cell_type": "code",
   "execution_count": 26,
   "metadata": {},
   "outputs": [],
   "source": [
    "time_table.write.parquet(os.path.join('../../output_tables', 'date_table'), 'overwrite')"
   ]
  }
 ],
 "metadata": {
  "kernelspec": {
   "display_name": "Python 3",
   "language": "python",
   "name": "python3"
  },
  "language_info": {
   "codemirror_mode": {
    "name": "ipython",
    "version": 3
   },
   "file_extension": ".py",
   "mimetype": "text/x-python",
   "name": "python",
   "nbconvert_exporter": "python",
   "pygments_lexer": "ipython3",
   "version": "3.7.9"
  },
  "toc": {
   "base_numbering": 1,
   "nav_menu": {},
   "number_sections": true,
   "sideBar": true,
   "skip_h1_title": false,
   "title_cell": "Table of Contents",
   "title_sidebar": "Contents",
   "toc_cell": false,
   "toc_position": {},
   "toc_section_display": true,
   "toc_window_display": false
  }
 },
 "nbformat": 4,
 "nbformat_minor": 4
}
